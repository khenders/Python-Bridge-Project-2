{
 "cells": [
  {
   "cell_type": "code",
   "execution_count": 1,
   "metadata": {
    "collapsed": true
   },
   "outputs": [],
   "source": [
    "import numpy as np\n",
    "import pandas as pd\n",
    "import matplotlib.pyplot as plt\n",
    "%matplotlib inline"
   ]
  },
  {
   "cell_type": "code",
   "execution_count": 2,
   "metadata": {
    "collapsed": false
   },
   "outputs": [],
   "source": [
    "driving_data = pd.read_csv('./340742548_T_NPTS_PERSON_1995(1).csv')"
   ]
  },
  {
   "cell_type": "code",
   "execution_count": 3,
   "metadata": {
    "collapsed": false
   },
   "outputs": [
    {
     "name": "stdout",
     "output_type": "stream",
     "text": [
      "(95360, 179)\n"
     ]
    }
   ],
   "source": [
    "print(driving_data.shape)"
   ]
  },
  {
   "cell_type": "code",
   "execution_count": 4,
   "metadata": {
    "collapsed": false
   },
   "outputs": [
    {
     "data": {
      "text/plain": [
       "Index(['HOUSEID', 'PERSONID', 'PROXY', 'R_AGEFLG', 'REF_ROST', 'R_AGE',\n",
       "       'R_SEX', 'R_RELAT', 'DRIVER', 'DTCONJ',\n",
       "       ...\n",
       "       'WTINDMAN', 'WTINDTRN', 'WTINDWHL', 'WTINDRET', 'WTINDFIN', 'WTINDSVC',\n",
       "       'WORKLOC', 'YEARMIL2', 'YEAR', 'HHCMSA_NM'],\n",
       "      dtype='object', length=179)"
      ]
     },
     "execution_count": 4,
     "metadata": {},
     "output_type": "execute_result"
    }
   ],
   "source": [
    "driving_data.columns"
   ]
  },
  {
   "cell_type": "code",
   "execution_count": 5,
   "metadata": {
    "collapsed": false
   },
   "outputs": [
    {
     "data": {
      "text/plain": [
       "count    95360.000000\n",
       "mean        38.462060\n",
       "std         20.626037\n",
       "min          5.000000\n",
       "25%         22.000000\n",
       "50%         38.000000\n",
       "75%         53.000000\n",
       "max         88.000000\n",
       "Name: R_AGE, dtype: float64"
      ]
     },
     "execution_count": 5,
     "metadata": {},
     "output_type": "execute_result"
    }
   ],
   "source": [
    "driving_data.R_AGE.describe()"
   ]
  },
  {
   "cell_type": "code",
   "execution_count": 6,
   "metadata": {
    "collapsed": false
   },
   "outputs": [
    {
     "name": "stderr",
     "output_type": "stream",
     "text": [
      "/Users/robertdiaz/anaconda/lib/python3.5/site-packages/numpy/lib/function_base.py:3834: RuntimeWarning: Invalid value encountered in percentile\n",
      "  RuntimeWarning)\n"
     ]
    },
    {
     "data": {
      "text/html": [
       "<div>\n",
       "<table border=\"1\" class=\"dataframe\">\n",
       "  <thead>\n",
       "    <tr style=\"text-align: right;\">\n",
       "      <th></th>\n",
       "      <th>HOUSEID</th>\n",
       "      <th>PERSONID</th>\n",
       "      <th>PROXY</th>\n",
       "      <th>R_AGEFLG</th>\n",
       "      <th>REF_ROST</th>\n",
       "      <th>R_AGE</th>\n",
       "      <th>R_SEX</th>\n",
       "      <th>R_RELAT</th>\n",
       "      <th>DRIVER</th>\n",
       "      <th>DTCONJ</th>\n",
       "      <th>...</th>\n",
       "      <th>WTINDAGR</th>\n",
       "      <th>WTINDMAN</th>\n",
       "      <th>WTINDTRN</th>\n",
       "      <th>WTINDWHL</th>\n",
       "      <th>WTINDRET</th>\n",
       "      <th>WTINDFIN</th>\n",
       "      <th>WTINDSVC</th>\n",
       "      <th>WORKLOC</th>\n",
       "      <th>YEARMIL2</th>\n",
       "      <th>YEAR</th>\n",
       "    </tr>\n",
       "  </thead>\n",
       "  <tbody>\n",
       "    <tr>\n",
       "      <th>count</th>\n",
       "      <td>6.999000e+04</td>\n",
       "      <td>69990.000000</td>\n",
       "      <td>69990.000000</td>\n",
       "      <td>69990.000000</td>\n",
       "      <td>69990.000000</td>\n",
       "      <td>69990.000000</td>\n",
       "      <td>69990.000000</td>\n",
       "      <td>69990.000000</td>\n",
       "      <td>69990.0</td>\n",
       "      <td>69990.000000</td>\n",
       "      <td>...</td>\n",
       "      <td>69990.000000</td>\n",
       "      <td>69990.000000</td>\n",
       "      <td>69990.000000</td>\n",
       "      <td>69990.000000</td>\n",
       "      <td>69990.000000</td>\n",
       "      <td>69990.000000</td>\n",
       "      <td>69990.000000</td>\n",
       "      <td>69990.000000</td>\n",
       "      <td>69990.000000</td>\n",
       "      <td>69990.0</td>\n",
       "    </tr>\n",
       "    <tr>\n",
       "      <th>mean</th>\n",
       "      <td>6.406460e+06</td>\n",
       "      <td>1.613445</td>\n",
       "      <td>1.805101</td>\n",
       "      <td>1.987327</td>\n",
       "      <td>1.021617</td>\n",
       "      <td>44.285055</td>\n",
       "      <td>1.516588</td>\n",
       "      <td>1.902586</td>\n",
       "      <td>1.0</td>\n",
       "      <td>20.810959</td>\n",
       "      <td>...</td>\n",
       "      <td>505.520546</td>\n",
       "      <td>510.117417</td>\n",
       "      <td>505.412602</td>\n",
       "      <td>505.658351</td>\n",
       "      <td>512.473611</td>\n",
       "      <td>506.009687</td>\n",
       "      <td>517.488255</td>\n",
       "      <td>29.953765</td>\n",
       "      <td>123131.860652</td>\n",
       "      <td>1995.0</td>\n",
       "    </tr>\n",
       "    <tr>\n",
       "      <th>std</th>\n",
       "      <td>3.603141e+06</td>\n",
       "      <td>0.770800</td>\n",
       "      <td>0.396126</td>\n",
       "      <td>0.111861</td>\n",
       "      <td>1.373832</td>\n",
       "      <td>16.286924</td>\n",
       "      <td>0.499728</td>\n",
       "      <td>2.633314</td>\n",
       "      <td>0.0</td>\n",
       "      <td>36.865521</td>\n",
       "      <td>...</td>\n",
       "      <td>495.556922</td>\n",
       "      <td>491.046735</td>\n",
       "      <td>495.675133</td>\n",
       "      <td>495.424738</td>\n",
       "      <td>488.596969</td>\n",
       "      <td>495.082556</td>\n",
       "      <td>483.613936</td>\n",
       "      <td>41.653813</td>\n",
       "      <td>310872.563236</td>\n",
       "      <td>0.0</td>\n",
       "    </tr>\n",
       "    <tr>\n",
       "      <th>min</th>\n",
       "      <td>1.000371e+06</td>\n",
       "      <td>1.000000</td>\n",
       "      <td>1.000000</td>\n",
       "      <td>1.000000</td>\n",
       "      <td>1.000000</td>\n",
       "      <td>5.000000</td>\n",
       "      <td>1.000000</td>\n",
       "      <td>1.000000</td>\n",
       "      <td>1.0</td>\n",
       "      <td>1.000000</td>\n",
       "      <td>...</td>\n",
       "      <td>0.000000</td>\n",
       "      <td>0.000000</td>\n",
       "      <td>0.000000</td>\n",
       "      <td>0.000000</td>\n",
       "      <td>0.000000</td>\n",
       "      <td>0.000000</td>\n",
       "      <td>0.000000</td>\n",
       "      <td>1.000000</td>\n",
       "      <td>0.000000</td>\n",
       "      <td>1995.0</td>\n",
       "    </tr>\n",
       "    <tr>\n",
       "      <th>25%</th>\n",
       "      <td>3.029447e+06</td>\n",
       "      <td>1.000000</td>\n",
       "      <td>2.000000</td>\n",
       "      <td>2.000000</td>\n",
       "      <td>1.000000</td>\n",
       "      <td>32.000000</td>\n",
       "      <td>1.000000</td>\n",
       "      <td>1.000000</td>\n",
       "      <td>1.0</td>\n",
       "      <td>2.000000</td>\n",
       "      <td>...</td>\n",
       "      <td>0.000000</td>\n",
       "      <td>10.000000</td>\n",
       "      <td>0.000000</td>\n",
       "      <td>0.000000</td>\n",
       "      <td>20.000000</td>\n",
       "      <td>0.000000</td>\n",
       "      <td>30.000000</td>\n",
       "      <td>3.000000</td>\n",
       "      <td>6000.000000</td>\n",
       "      <td>1995.0</td>\n",
       "    </tr>\n",
       "    <tr>\n",
       "      <th>50%</th>\n",
       "      <td>6.207195e+06</td>\n",
       "      <td>1.000000</td>\n",
       "      <td>2.000000</td>\n",
       "      <td>2.000000</td>\n",
       "      <td>1.000000</td>\n",
       "      <td>42.000000</td>\n",
       "      <td>2.000000</td>\n",
       "      <td>1.000000</td>\n",
       "      <td>1.0</td>\n",
       "      <td>3.000000</td>\n",
       "      <td>...</td>\n",
       "      <td>994.000000</td>\n",
       "      <td>994.000000</td>\n",
       "      <td>994.000000</td>\n",
       "      <td>994.000000</td>\n",
       "      <td>994.000000</td>\n",
       "      <td>994.000000</td>\n",
       "      <td>994.000000</td>\n",
       "      <td>3.000000</td>\n",
       "      <td>12000.000000</td>\n",
       "      <td>1995.0</td>\n",
       "    </tr>\n",
       "    <tr>\n",
       "      <th>75%</th>\n",
       "      <td>1.000548e+07</td>\n",
       "      <td>2.000000</td>\n",
       "      <td>2.000000</td>\n",
       "      <td>2.000000</td>\n",
       "      <td>1.000000</td>\n",
       "      <td>55.000000</td>\n",
       "      <td>2.000000</td>\n",
       "      <td>2.000000</td>\n",
       "      <td>1.0</td>\n",
       "      <td>3.000000</td>\n",
       "      <td>...</td>\n",
       "      <td>994.000000</td>\n",
       "      <td>994.000000</td>\n",
       "      <td>994.000000</td>\n",
       "      <td>994.000000</td>\n",
       "      <td>994.000000</td>\n",
       "      <td>994.000000</td>\n",
       "      <td>994.000000</td>\n",
       "      <td>94.000000</td>\n",
       "      <td>20000.000000</td>\n",
       "      <td>1995.0</td>\n",
       "    </tr>\n",
       "    <tr>\n",
       "      <th>max</th>\n",
       "      <td>1.222743e+07</td>\n",
       "      <td>10.000000</td>\n",
       "      <td>2.000000</td>\n",
       "      <td>2.000000</td>\n",
       "      <td>98.000000</td>\n",
       "      <td>88.000000</td>\n",
       "      <td>2.000000</td>\n",
       "      <td>99.000000</td>\n",
       "      <td>1.0</td>\n",
       "      <td>99.000000</td>\n",
       "      <td>...</td>\n",
       "      <td>998.000000</td>\n",
       "      <td>998.000000</td>\n",
       "      <td>998.000000</td>\n",
       "      <td>998.000000</td>\n",
       "      <td>998.000000</td>\n",
       "      <td>998.000000</td>\n",
       "      <td>998.000000</td>\n",
       "      <td>94.000000</td>\n",
       "      <td>999999.000000</td>\n",
       "      <td>1995.0</td>\n",
       "    </tr>\n",
       "  </tbody>\n",
       "</table>\n",
       "<p>8 rows × 175 columns</p>\n",
       "</div>"
      ],
      "text/plain": [
       "            HOUSEID      PERSONID         PROXY      R_AGEFLG      REF_ROST  \\\n",
       "count  6.999000e+04  69990.000000  69990.000000  69990.000000  69990.000000   \n",
       "mean   6.406460e+06      1.613445      1.805101      1.987327      1.021617   \n",
       "std    3.603141e+06      0.770800      0.396126      0.111861      1.373832   \n",
       "min    1.000371e+06      1.000000      1.000000      1.000000      1.000000   \n",
       "25%    3.029447e+06      1.000000      2.000000      2.000000      1.000000   \n",
       "50%    6.207195e+06      1.000000      2.000000      2.000000      1.000000   \n",
       "75%    1.000548e+07      2.000000      2.000000      2.000000      1.000000   \n",
       "max    1.222743e+07     10.000000      2.000000      2.000000     98.000000   \n",
       "\n",
       "              R_AGE         R_SEX       R_RELAT   DRIVER        DTCONJ  \\\n",
       "count  69990.000000  69990.000000  69990.000000  69990.0  69990.000000   \n",
       "mean      44.285055      1.516588      1.902586      1.0     20.810959   \n",
       "std       16.286924      0.499728      2.633314      0.0     36.865521   \n",
       "min        5.000000      1.000000      1.000000      1.0      1.000000   \n",
       "25%       32.000000      1.000000      1.000000      1.0      2.000000   \n",
       "50%       42.000000      2.000000      1.000000      1.0      3.000000   \n",
       "75%       55.000000      2.000000      2.000000      1.0      3.000000   \n",
       "max       88.000000      2.000000     99.000000      1.0     99.000000   \n",
       "\n",
       "        ...         WTINDAGR      WTINDMAN      WTINDTRN      WTINDWHL  \\\n",
       "count   ...     69990.000000  69990.000000  69990.000000  69990.000000   \n",
       "mean    ...       505.520546    510.117417    505.412602    505.658351   \n",
       "std     ...       495.556922    491.046735    495.675133    495.424738   \n",
       "min     ...         0.000000      0.000000      0.000000      0.000000   \n",
       "25%     ...         0.000000     10.000000      0.000000      0.000000   \n",
       "50%     ...       994.000000    994.000000    994.000000    994.000000   \n",
       "75%     ...       994.000000    994.000000    994.000000    994.000000   \n",
       "max     ...       998.000000    998.000000    998.000000    998.000000   \n",
       "\n",
       "           WTINDRET      WTINDFIN      WTINDSVC       WORKLOC       YEARMIL2  \\\n",
       "count  69990.000000  69990.000000  69990.000000  69990.000000   69990.000000   \n",
       "mean     512.473611    506.009687    517.488255     29.953765  123131.860652   \n",
       "std      488.596969    495.082556    483.613936     41.653813  310872.563236   \n",
       "min        0.000000      0.000000      0.000000      1.000000       0.000000   \n",
       "25%       20.000000      0.000000     30.000000      3.000000    6000.000000   \n",
       "50%      994.000000    994.000000    994.000000      3.000000   12000.000000   \n",
       "75%      994.000000    994.000000    994.000000     94.000000   20000.000000   \n",
       "max      998.000000    998.000000    998.000000     94.000000  999999.000000   \n",
       "\n",
       "          YEAR  \n",
       "count  69990.0  \n",
       "mean    1995.0  \n",
       "std        0.0  \n",
       "min     1995.0  \n",
       "25%     1995.0  \n",
       "50%     1995.0  \n",
       "75%     1995.0  \n",
       "max     1995.0  \n",
       "\n",
       "[8 rows x 175 columns]"
      ]
     },
     "execution_count": 6,
     "metadata": {},
     "output_type": "execute_result"
    }
   ],
   "source": [
    "driving_data[driving_data.DRIVER==1].describe()"
   ]
  },
  {
   "cell_type": "code",
   "execution_count": 7,
   "metadata": {
    "collapsed": false
   },
   "outputs": [
    {
     "name": "stderr",
     "output_type": "stream",
     "text": [
      "/Users/robertdiaz/anaconda/lib/python3.5/site-packages/numpy/lib/function_base.py:3834: RuntimeWarning: Invalid value encountered in percentile\n",
      "  RuntimeWarning)\n"
     ]
    },
    {
     "data": {
      "text/html": [
       "<div>\n",
       "<table border=\"1\" class=\"dataframe\">\n",
       "  <thead>\n",
       "    <tr style=\"text-align: right;\">\n",
       "      <th></th>\n",
       "      <th>HOUSEID</th>\n",
       "      <th>PERSONID</th>\n",
       "      <th>PROXY</th>\n",
       "      <th>R_AGEFLG</th>\n",
       "      <th>REF_ROST</th>\n",
       "      <th>R_AGE</th>\n",
       "      <th>R_SEX</th>\n",
       "      <th>R_RELAT</th>\n",
       "      <th>DRIVER</th>\n",
       "      <th>DTCONJ</th>\n",
       "      <th>...</th>\n",
       "      <th>WTINDAGR</th>\n",
       "      <th>WTINDMAN</th>\n",
       "      <th>WTINDTRN</th>\n",
       "      <th>WTINDWHL</th>\n",
       "      <th>WTINDRET</th>\n",
       "      <th>WTINDFIN</th>\n",
       "      <th>WTINDSVC</th>\n",
       "      <th>WORKLOC</th>\n",
       "      <th>YEARMIL2</th>\n",
       "      <th>YEAR</th>\n",
       "    </tr>\n",
       "  </thead>\n",
       "  <tbody>\n",
       "    <tr>\n",
       "      <th>count</th>\n",
       "      <td>2.536900e+04</td>\n",
       "      <td>25369.000000</td>\n",
       "      <td>25369.000000</td>\n",
       "      <td>25369.000000</td>\n",
       "      <td>25369.000000</td>\n",
       "      <td>25369.000000</td>\n",
       "      <td>25369.000000</td>\n",
       "      <td>25369.000000</td>\n",
       "      <td>25369.0</td>\n",
       "      <td>25369.000000</td>\n",
       "      <td>...</td>\n",
       "      <td>25369.000000</td>\n",
       "      <td>25369.000000</td>\n",
       "      <td>25369.000000</td>\n",
       "      <td>25369.000000</td>\n",
       "      <td>25369.000000</td>\n",
       "      <td>25369.000000</td>\n",
       "      <td>25369.000000</td>\n",
       "      <td>25369.000000</td>\n",
       "      <td>25369.000000</td>\n",
       "      <td>25369.0</td>\n",
       "    </tr>\n",
       "    <tr>\n",
       "      <th>mean</th>\n",
       "      <td>6.474525e+06</td>\n",
       "      <td>3.095274</td>\n",
       "      <td>1.287635</td>\n",
       "      <td>1.991328</td>\n",
       "      <td>1.033584</td>\n",
       "      <td>22.398084</td>\n",
       "      <td>1.553589</td>\n",
       "      <td>3.084907</td>\n",
       "      <td>2.0</td>\n",
       "      <td>74.089992</td>\n",
       "      <td>...</td>\n",
       "      <td>929.356143</td>\n",
       "      <td>929.830344</td>\n",
       "      <td>929.407387</td>\n",
       "      <td>929.406599</td>\n",
       "      <td>930.256455</td>\n",
       "      <td>929.598959</td>\n",
       "      <td>931.231858</td>\n",
       "      <td>84.837321</td>\n",
       "      <td>999564.900784</td>\n",
       "      <td>1995.0</td>\n",
       "    </tr>\n",
       "    <tr>\n",
       "      <th>std</th>\n",
       "      <td>3.630682e+06</td>\n",
       "      <td>1.275802</td>\n",
       "      <td>0.452669</td>\n",
       "      <td>0.092721</td>\n",
       "      <td>1.617073</td>\n",
       "      <td>22.709724</td>\n",
       "      <td>0.497130</td>\n",
       "      <td>3.059184</td>\n",
       "      <td>0.0</td>\n",
       "      <td>37.780224</td>\n",
       "      <td>...</td>\n",
       "      <td>244.890537</td>\n",
       "      <td>243.123606</td>\n",
       "      <td>244.701359</td>\n",
       "      <td>244.700503</td>\n",
       "      <td>241.505244</td>\n",
       "      <td>243.987143</td>\n",
       "      <td>237.853626</td>\n",
       "      <td>27.404409</td>\n",
       "      <td>20606.987634</td>\n",
       "      <td>0.0</td>\n",
       "    </tr>\n",
       "    <tr>\n",
       "      <th>min</th>\n",
       "      <td>1.000439e+06</td>\n",
       "      <td>1.000000</td>\n",
       "      <td>1.000000</td>\n",
       "      <td>1.000000</td>\n",
       "      <td>1.000000</td>\n",
       "      <td>5.000000</td>\n",
       "      <td>1.000000</td>\n",
       "      <td>1.000000</td>\n",
       "      <td>2.0</td>\n",
       "      <td>1.000000</td>\n",
       "      <td>...</td>\n",
       "      <td>0.000000</td>\n",
       "      <td>0.000000</td>\n",
       "      <td>0.000000</td>\n",
       "      <td>0.000000</td>\n",
       "      <td>0.000000</td>\n",
       "      <td>0.000000</td>\n",
       "      <td>0.000000</td>\n",
       "      <td>1.000000</td>\n",
       "      <td>0.000000</td>\n",
       "      <td>1995.0</td>\n",
       "    </tr>\n",
       "    <tr>\n",
       "      <th>25%</th>\n",
       "      <td>3.029188e+06</td>\n",
       "      <td>2.000000</td>\n",
       "      <td>1.000000</td>\n",
       "      <td>2.000000</td>\n",
       "      <td>1.000000</td>\n",
       "      <td>9.000000</td>\n",
       "      <td>1.000000</td>\n",
       "      <td>3.000000</td>\n",
       "      <td>2.0</td>\n",
       "      <td>94.000000</td>\n",
       "      <td>...</td>\n",
       "      <td>994.000000</td>\n",
       "      <td>994.000000</td>\n",
       "      <td>994.000000</td>\n",
       "      <td>994.000000</td>\n",
       "      <td>994.000000</td>\n",
       "      <td>994.000000</td>\n",
       "      <td>994.000000</td>\n",
       "      <td>94.000000</td>\n",
       "      <td>999994.000000</td>\n",
       "      <td>1995.0</td>\n",
       "    </tr>\n",
       "    <tr>\n",
       "      <th>50%</th>\n",
       "      <td>6.220396e+06</td>\n",
       "      <td>3.000000</td>\n",
       "      <td>1.000000</td>\n",
       "      <td>2.000000</td>\n",
       "      <td>1.000000</td>\n",
       "      <td>13.000000</td>\n",
       "      <td>2.000000</td>\n",
       "      <td>3.000000</td>\n",
       "      <td>2.0</td>\n",
       "      <td>94.000000</td>\n",
       "      <td>...</td>\n",
       "      <td>994.000000</td>\n",
       "      <td>994.000000</td>\n",
       "      <td>994.000000</td>\n",
       "      <td>994.000000</td>\n",
       "      <td>994.000000</td>\n",
       "      <td>994.000000</td>\n",
       "      <td>994.000000</td>\n",
       "      <td>94.000000</td>\n",
       "      <td>999994.000000</td>\n",
       "      <td>1995.0</td>\n",
       "    </tr>\n",
       "    <tr>\n",
       "      <th>75%</th>\n",
       "      <td>1.003521e+07</td>\n",
       "      <td>4.000000</td>\n",
       "      <td>2.000000</td>\n",
       "      <td>2.000000</td>\n",
       "      <td>1.000000</td>\n",
       "      <td>23.000000</td>\n",
       "      <td>2.000000</td>\n",
       "      <td>3.000000</td>\n",
       "      <td>2.0</td>\n",
       "      <td>94.000000</td>\n",
       "      <td>...</td>\n",
       "      <td>994.000000</td>\n",
       "      <td>994.000000</td>\n",
       "      <td>994.000000</td>\n",
       "      <td>994.000000</td>\n",
       "      <td>994.000000</td>\n",
       "      <td>994.000000</td>\n",
       "      <td>994.000000</td>\n",
       "      <td>94.000000</td>\n",
       "      <td>999994.000000</td>\n",
       "      <td>1995.0</td>\n",
       "    </tr>\n",
       "    <tr>\n",
       "      <th>max</th>\n",
       "      <td>1.222743e+07</td>\n",
       "      <td>10.000000</td>\n",
       "      <td>2.000000</td>\n",
       "      <td>2.000000</td>\n",
       "      <td>98.000000</td>\n",
       "      <td>88.000000</td>\n",
       "      <td>2.000000</td>\n",
       "      <td>99.000000</td>\n",
       "      <td>2.0</td>\n",
       "      <td>99.000000</td>\n",
       "      <td>...</td>\n",
       "      <td>998.000000</td>\n",
       "      <td>998.000000</td>\n",
       "      <td>998.000000</td>\n",
       "      <td>998.000000</td>\n",
       "      <td>998.000000</td>\n",
       "      <td>998.000000</td>\n",
       "      <td>998.000000</td>\n",
       "      <td>94.000000</td>\n",
       "      <td>999998.000000</td>\n",
       "      <td>1995.0</td>\n",
       "    </tr>\n",
       "  </tbody>\n",
       "</table>\n",
       "<p>8 rows × 175 columns</p>\n",
       "</div>"
      ],
      "text/plain": [
       "            HOUSEID      PERSONID         PROXY      R_AGEFLG      REF_ROST  \\\n",
       "count  2.536900e+04  25369.000000  25369.000000  25369.000000  25369.000000   \n",
       "mean   6.474525e+06      3.095274      1.287635      1.991328      1.033584   \n",
       "std    3.630682e+06      1.275802      0.452669      0.092721      1.617073   \n",
       "min    1.000439e+06      1.000000      1.000000      1.000000      1.000000   \n",
       "25%    3.029188e+06      2.000000      1.000000      2.000000      1.000000   \n",
       "50%    6.220396e+06      3.000000      1.000000      2.000000      1.000000   \n",
       "75%    1.003521e+07      4.000000      2.000000      2.000000      1.000000   \n",
       "max    1.222743e+07     10.000000      2.000000      2.000000     98.000000   \n",
       "\n",
       "              R_AGE         R_SEX       R_RELAT   DRIVER        DTCONJ  \\\n",
       "count  25369.000000  25369.000000  25369.000000  25369.0  25369.000000   \n",
       "mean      22.398084      1.553589      3.084907      2.0     74.089992   \n",
       "std       22.709724      0.497130      3.059184      0.0     37.780224   \n",
       "min        5.000000      1.000000      1.000000      2.0      1.000000   \n",
       "25%        9.000000      1.000000      3.000000      2.0     94.000000   \n",
       "50%       13.000000      2.000000      3.000000      2.0     94.000000   \n",
       "75%       23.000000      2.000000      3.000000      2.0     94.000000   \n",
       "max       88.000000      2.000000     99.000000      2.0     99.000000   \n",
       "\n",
       "        ...         WTINDAGR      WTINDMAN      WTINDTRN      WTINDWHL  \\\n",
       "count   ...     25369.000000  25369.000000  25369.000000  25369.000000   \n",
       "mean    ...       929.356143    929.830344    929.407387    929.406599   \n",
       "std     ...       244.890537    243.123606    244.701359    244.700503   \n",
       "min     ...         0.000000      0.000000      0.000000      0.000000   \n",
       "25%     ...       994.000000    994.000000    994.000000    994.000000   \n",
       "50%     ...       994.000000    994.000000    994.000000    994.000000   \n",
       "75%     ...       994.000000    994.000000    994.000000    994.000000   \n",
       "max     ...       998.000000    998.000000    998.000000    998.000000   \n",
       "\n",
       "           WTINDRET      WTINDFIN      WTINDSVC       WORKLOC       YEARMIL2  \\\n",
       "count  25369.000000  25369.000000  25369.000000  25369.000000   25369.000000   \n",
       "mean     930.256455    929.598959    931.231858     84.837321  999564.900784   \n",
       "std      241.505244    243.987143    237.853626     27.404409   20606.987634   \n",
       "min        0.000000      0.000000      0.000000      1.000000       0.000000   \n",
       "25%      994.000000    994.000000    994.000000     94.000000  999994.000000   \n",
       "50%      994.000000    994.000000    994.000000     94.000000  999994.000000   \n",
       "75%      994.000000    994.000000    994.000000     94.000000  999994.000000   \n",
       "max      998.000000    998.000000    998.000000     94.000000  999998.000000   \n",
       "\n",
       "          YEAR  \n",
       "count  25369.0  \n",
       "mean    1995.0  \n",
       "std        0.0  \n",
       "min     1995.0  \n",
       "25%     1995.0  \n",
       "50%     1995.0  \n",
       "75%     1995.0  \n",
       "max     1995.0  \n",
       "\n",
       "[8 rows x 175 columns]"
      ]
     },
     "execution_count": 7,
     "metadata": {},
     "output_type": "execute_result"
    }
   ],
   "source": [
    "driving_data[driving_data.DRIVER==2].describe()"
   ]
  },
  {
   "cell_type": "code",
   "execution_count": 8,
   "metadata": {
    "collapsed": false
   },
   "outputs": [
    {
     "data": {
      "text/plain": [
       "count     95360.000000\n",
       "mean     319399.831449\n",
       "std      457238.852565\n",
       "min           0.000000\n",
       "25%        7000.000000\n",
       "50%       15000.000000\n",
       "75%      999994.000000\n",
       "max      999999.000000\n",
       "Name: YEARMILE, dtype: float64"
      ]
     },
     "execution_count": 8,
     "metadata": {},
     "output_type": "execute_result"
    }
   ],
   "source": [
    "driving_data.YEARMILE.describe()"
   ]
  },
  {
   "cell_type": "code",
   "execution_count": 9,
   "metadata": {
    "collapsed": false
   },
   "outputs": [
    {
     "data": {
      "text/plain": [
       "0    999994\n",
       "dtype: int64"
      ]
     },
     "execution_count": 9,
     "metadata": {},
     "output_type": "execute_result"
    }
   ],
   "source": [
    "driving_data.YEARMILE.mode()"
   ]
  },
  {
   "cell_type": "code",
   "execution_count": 10,
   "metadata": {
    "collapsed": false
   },
   "outputs": [],
   "source": [
    "#driving_data.sort_values(by =\"YEARMILE\", ascending=False)"
   ]
  },
  {
   "cell_type": "code",
   "execution_count": 11,
   "metadata": {
    "collapsed": false
   },
   "outputs": [
    {
     "data": {
      "text/plain": [
       "999994    25194\n",
       "10000      7395\n",
       "15000      6174\n",
       "12000      5364\n",
       "0          4580\n",
       "20000      4536\n",
       "999998     4422\n",
       "5000       3348\n",
       "8000       2572\n",
       "6000       2043\n",
       "30000      2018\n",
       "25000      1991\n",
       "3000       1832\n",
       "1000       1712\n",
       "2000       1712\n",
       "7000       1583\n",
       "4000       1323\n",
       "18000      1090\n",
       "9000        890\n",
       "500         819\n",
       "14000       813\n",
       "13000       774\n",
       "40000       731\n",
       "11000       624\n",
       "16000       618\n",
       "35000       594\n",
       "1500        552\n",
       "50000       517\n",
       "100         453\n",
       "200         440\n",
       "          ...  \n",
       "2280          1\n",
       "69000         1\n",
       "3350          1\n",
       "3625          1\n",
       "114400        1\n",
       "12050         1\n",
       "16400         1\n",
       "24            1\n",
       "4250          1\n",
       "470           1\n",
       "60980         1\n",
       "121000        1\n",
       "41600         1\n",
       "275           1\n",
       "14740         1\n",
       "23200         1\n",
       "7120          1\n",
       "137000        1\n",
       "18210         1\n",
       "13100         1\n",
       "980           1\n",
       "298           1\n",
       "9360          1\n",
       "14893         1\n",
       "11450         1\n",
       "21            1\n",
       "85            1\n",
       "490           1\n",
       "3668          1\n",
       "31600         1\n",
       "Name: YEARMILE, dtype: int64"
      ]
     },
     "execution_count": 11,
     "metadata": {},
     "output_type": "execute_result"
    }
   ],
   "source": [
    "driving_data.YEARMILE.value_counts()"
   ]
  },
  {
   "cell_type": "code",
   "execution_count": 12,
   "metadata": {
    "collapsed": false
   },
   "outputs": [],
   "source": [
    "#(driving_data.YEARMILE > 200000).value_counts()"
   ]
  },
  {
   "cell_type": "code",
   "execution_count": 13,
   "metadata": {
    "collapsed": false
   },
   "outputs": [],
   "source": [
    "#this is valid, just commented out becasue it might take kernel power\n",
    "#abherrent_mileage = driving_data[driving_data.YEARMILE > 200000]\n",
    "#abherrent_mileage"
   ]
  },
  {
   "cell_type": "code",
   "execution_count": 14,
   "metadata": {
    "collapsed": false
   },
   "outputs": [
    {
     "data": {
      "text/plain": [
       "True     65718\n",
       "False    29642\n",
       "Name: YEARMILE, dtype: int64"
      ]
     },
     "execution_count": 14,
     "metadata": {},
     "output_type": "execute_result"
    }
   ],
   "source": [
    "(driving_data.YEARMILE < 200001).value_counts()"
   ]
  },
  {
   "cell_type": "code",
   "execution_count": 15,
   "metadata": {
    "collapsed": false
   },
   "outputs": [
    {
     "data": {
      "text/plain": [
       "count     65718.000000\n",
       "mean      12418.636614\n",
       "std       14015.932593\n",
       "min           0.000000\n",
       "25%        4000.000000\n",
       "50%       10000.000000\n",
       "75%       15000.000000\n",
       "max      200000.000000\n",
       "Name: YEARMILE, dtype: float64"
      ]
     },
     "execution_count": 15,
     "metadata": {},
     "output_type": "execute_result"
    }
   ],
   "source": [
    "legit_mileage = driving_data[driving_data.YEARMILE < 200001]\n",
    "legit_mileage.YEARMILE.describe()"
   ]
  },
  {
   "cell_type": "code",
   "execution_count": 16,
   "metadata": {
    "collapsed": false
   },
   "outputs": [],
   "source": [
    "#legit_mileage.plot(x=\"YEARMILE\")\n",
    "#plt.xlabel(\"Miles per year\")\n",
    "#plt.title(\"Miles per year Driven\")"
   ]
  },
  {
   "cell_type": "code",
   "execution_count": 17,
   "metadata": {
    "collapsed": false
   },
   "outputs": [],
   "source": [
    "age_mileage = driving_data[[\"R_AGE\", \"YEARMILE\"]]\n",
    "#age_mileage\n",
    "#miles still contain 99999999 values"
   ]
  },
  {
   "cell_type": "code",
   "execution_count": 18,
   "metadata": {
    "collapsed": false
   },
   "outputs": [],
   "source": [
    "legit_mileage_age = age_mileage[age_mileage.YEARMILE <200001]\n",
    "#legit_mileage_age"
   ]
  },
  {
   "cell_type": "code",
   "execution_count": null,
   "metadata": {
    "collapsed": false
   },
   "outputs": [],
   "source": []
  },
  {
   "cell_type": "code",
   "execution_count": 19,
   "metadata": {
    "collapsed": false
   },
   "outputs": [
    {
     "data": {
      "text/plain": [
       "<matplotlib.text.Text at 0x1134b48d0>"
      ]
     },
     "execution_count": 19,
     "metadata": {},
     "output_type": "execute_result"
    },
    {
     "data": {
      "image/png": "[encoded data removed]",
      "text/plain": [
       "<matplotlib.figure.Figure at 0x103315d30>"
      ]
     },
     "metadata": {},
     "output_type": "display_data"
    }
   ],
   "source": [
    "#this works!\n",
    "legit_mileage_age.plot(x='R_AGE', y='YEARMILE', kind='scatter')\n",
    "plt.xlabel(\"Age\")\n",
    "plt.ylabel(\"Yearly mileage driven\")\n",
    "plt.title(\"Miles Driven per year versus age\")\n",
    "#conclusions: there is no obvious correlation between mpy and age\n",
    "#there is something strange going on with ages over 76?- there are many values at very particular ages, why aren't\n",
    "#there values in between"
   ]
  },
  {
   "cell_type": "code",
   "execution_count": 24,
   "metadata": {
    "collapsed": false
   },
   "outputs": [
    {
     "data": {
      "text/plain": [
       "<matplotlib.text.Text at 0x1153903c8>"
      ]
     },
     "execution_count": 24,
     "metadata": {},
     "output_type": "execute_result"
    },
    {
     "data": {
      "image/png": "[encoded data removed]",
      "text/plain": [
       "<matplotlib.figure.Figure at 0x118844940>"
      ]
     },
     "metadata": {},
     "output_type": "display_data"
    }
   ],
   "source": [
    "legit_mileage_age.hist('YEARMILE', bins=80)\n",
    "plt.xlabel(\"Yearly Driving Distance\")\n",
    "plt.ylabel(\"Number of Individuals\")\n",
    "plt.title(\"Distribution of Miles Driven per year by people surveyed\")\n",
    "#i'll maybe cut this off at 60000 miles per year driven to get an idea of the shape in the 0-50000 mpy (miles per year)\n",
    "#region and see if there is anything interesting"
   ]
  },
  {
   "cell_type": "code",
   "execution_count": null,
   "metadata": {
    "collapsed": true
   },
   "outputs": [],
   "source": []
  },
  {
   "cell_type": "code",
   "execution_count": 21,
   "metadata": {
    "collapsed": false
   },
   "outputs": [
    {
     "data": {
      "text/plain": [
       "<matplotlib.text.Text at 0x1154ada58>"
      ]
     },
     "execution_count": 21,
     "metadata": {},
     "output_type": "execute_result"
    },
    {
     "data": {
      "image/png": "[encoded data removed]",
      "text/plain": [
       "<matplotlib.figure.Figure at 0x115c96f60>"
      ]
     },
     "metadata": {},
     "output_type": "display_data"
    }
   ],
   "source": [
    "#this works! includes the 999999 values jsut to check if there is anything funny going on.\n",
    "age_mileage.plot(x='R_AGE', y='YEARMILE', kind='scatter')\n",
    "plt.xlabel(\"Age\")\n",
    "plt.ylabel(\"Yearly mileage driven (includes abherrent values)\")\n",
    "plt.title(\"Miles Driven per year versus age (includes abherrent values)\")"
   ]
  },
  {
   "cell_type": "code",
   "execution_count": null,
   "metadata": {
    "collapsed": true
   },
   "outputs": [],
   "source": []
  }
 ],
 "metadata": {
  "anaconda-cloud": {},
  "kernelspec": {
   "display_name": "Python [conda root]",
   "language": "python",
   "name": "conda-root-py"
  },
  "language_info": {
   "codemirror_mode": {
    "name": "ipython",
    "version": 3
   },
   "file_extension": ".py",
   "mimetype": "text/x-python",
   "name": "python",
   "nbconvert_exporter": "python",
   "pygments_lexer": "ipython3",
   "version": "3.5.2"
  }
 },
 "nbformat": 4,
 "nbformat_minor": 1
}
