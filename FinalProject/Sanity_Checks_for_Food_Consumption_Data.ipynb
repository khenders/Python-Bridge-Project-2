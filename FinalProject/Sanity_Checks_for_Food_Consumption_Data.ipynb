{
 "cells": [
  {
   "cell_type": "markdown",
   "metadata": {},
   "source": [
    "Sanity Checks for Food Consumption Data"
   ]
  },
  {
   "cell_type": "code",
   "execution_count": 1,
   "metadata": {
    "collapsed": true
   },
   "outputs": [],
   "source": [
    "import pandas as pd\n",
    "import matplotlib.pyplot as plt\n",
    "%matplotlib inline"
   ]
  },
  {
   "cell_type": "code",
   "execution_count": 2,
   "metadata": {
    "collapsed": true
   },
   "outputs": [],
   "source": [
    "foodconsumption_data = pd.read_csv('./2013_2014day1data.csv')"
   ]
  },
  {
   "cell_type": "code",
   "execution_count": 3,
   "metadata": {
    "collapsed": false
   },
   "outputs": [
    {
     "data": {
      "text/plain": [
       "Index(['SEQN', 'WTDRD1', 'WTDR2D', 'DR1ILINE', 'DR1DRSTZ', 'DR1EXMER', 'DRABF',\n",
       "       'DRDINT', 'DR1DBIH', 'DR1DAY', 'DR1LANG', 'DR1CCMNM', 'DR1CCMTX',\n",
       "       'DR1_020', 'DR1_030Z', 'DR1FS', 'DR1_040Z', 'DR1IFDCD', 'DR1IGRMS',\n",
       "       'DR1IKCAL', 'DR1IPROT', 'DR1ICARB', 'DR1ISUGR', 'DR1IFIBE', 'DR1ITFAT',\n",
       "       'DR1ISFAT', 'DR1IMFAT', 'DR1IPFAT', 'DR1ICHOL', 'DR1IATOC', 'DR1IATOA',\n",
       "       'DR1IRET', 'DR1IVARA', 'DR1IACAR', 'DR1IBCAR', 'DR1ICRYP', 'DR1ILYCO',\n",
       "       'DR1ILZ', 'DR1IVB1', 'DR1IVB2', 'DR1INIAC', 'DR1IVB6', 'DR1IFOLA',\n",
       "       'DR1IFA', 'DR1IFF', 'DR1IFDFE', 'DR1ICHL', 'DR1IVB12', 'DR1IB12A',\n",
       "       'DR1IVC', 'DR1IVD', 'DR1IVK', 'DR1ICALC', 'DR1IPHOS', 'DR1IMAGN',\n",
       "       'DR1IIRON', 'DR1IZINC', 'DR1ICOPP', 'DR1ISODI', 'DR1IPOTA', 'DR1ISELE',\n",
       "       'DR1ICAFF', 'DR1ITHEO', 'DR1IALCO', 'DR1IMOIS', 'DR1IS040', 'DR1IS060',\n",
       "       'DR1IS080', 'DR1IS100', 'DR1IS120', 'DR1IS140', 'DR1IS160', 'DR1IS180',\n",
       "       'DR1IM161', 'DR1IM181', 'DR1IM201', 'DR1IM221', 'DR1IP182', 'DR1IP183',\n",
       "       'DR1IP184', 'DR1IP204', 'DR1IP205', 'DR1IP225', 'DR1IP226'],\n",
       "      dtype='object')"
      ]
     },
     "execution_count": 3,
     "metadata": {},
     "output_type": "execute_result"
    }
   ],
   "source": [
    "foodconsumption_data.columns"
   ]
  },
  {
   "cell_type": "code",
   "execution_count": 4,
   "metadata": {
    "collapsed": false
   },
   "outputs": [
    {
     "data": {
      "text/plain": [
       "131400"
      ]
     },
     "execution_count": 4,
     "metadata": {},
     "output_type": "execute_result"
    }
   ],
   "source": [
    "foodconsumption_data.SEQN.count()"
   ]
  },
  {
   "cell_type": "code",
   "execution_count": 5,
   "metadata": {
    "collapsed": false
   },
   "outputs": [
    {
     "data": {
      "text/plain": [
       "131400"
      ]
     },
     "execution_count": 5,
     "metadata": {},
     "output_type": "execute_result"
    }
   ],
   "source": [
    "foodconsumption_data.DR1IGRMS.count()"
   ]
  },
  {
   "cell_type": "code",
   "execution_count": 6,
   "metadata": {
    "collapsed": false
   },
   "outputs": [
    {
     "data": {
      "text/plain": [
       "131400"
      ]
     },
     "execution_count": 6,
     "metadata": {},
     "output_type": "execute_result"
    }
   ],
   "source": [
    "foodconsumption_data.DR1IFDCD.count()"
   ]
  },
  {
   "cell_type": "code",
   "execution_count": 7,
   "metadata": {
    "collapsed": false
   },
   "outputs": [
    {
     "data": {
      "text/plain": [
       "94000100    8101\n",
       "94100100    6127\n",
       "92101000    2331\n",
       "11112110    2268\n",
       "91101010    1666\n",
       "11111000    1556\n",
       "92410310    1522\n",
       "75113000    1494\n",
       "74101000    1304\n",
       "63107010    1261\n",
       "74401010    1207\n",
       "63101000    1134\n",
       "71401030     961\n",
       "14410110     958\n",
       "51101000     955\n",
       "92410510     947\n",
       "83107000     764\n",
       "71201015     737\n",
       "11000000     696\n",
       "74402150     689\n",
       "92530610     659\n",
       "11112210     648\n",
       "54401080     617\n",
       "56205008     603\n",
       "64104010     596\n",
       "51301010     582\n",
       "75117020     570\n",
       "42202000     565\n",
       "63123000     557\n",
       "61210220     552\n",
       "            ... \n",
       "57139000       1\n",
       "26127141       1\n",
       "13160410       1\n",
       "51105040       1\n",
       "25120000       1\n",
       "27315210       1\n",
       "93301132       1\n",
       "57321900       1\n",
       "33401420       1\n",
       "91726000       1\n",
       "72107233       1\n",
       "58100245       1\n",
       "53341000       1\n",
       "91735000       1\n",
       "58131535       1\n",
       "75204962       1\n",
       "26127121       1\n",
       "75127000       1\n",
       "72122224       1\n",
       "27564160       1\n",
       "75220028       1\n",
       "75214001       1\n",
       "54102050       1\n",
       "13120550       1\n",
       "24157235       1\n",
       "27150170       1\n",
       "72202020       1\n",
       "56203040       1\n",
       "41420100       1\n",
       "24402100       1\n",
       "Name: DR1IFDCD, dtype: int64"
      ]
     },
     "execution_count": 7,
     "metadata": {},
     "output_type": "execute_result"
    }
   ],
   "source": [
    "foodconsumption_data.DR1IFDCD.value_counts()\n",
    "# the top two items are water (94000100) and bottled water (94100100). \n",
    "# the third highest is brewed coffee (92101000)\n",
    "# reduced fat milk (11112110) is the fourth highest"
   ]
  },
  {
   "cell_type": "code",
   "execution_count": 64,
   "metadata": {
    "collapsed": false
   },
   "outputs": [
    {
     "data": {
      "text/plain": [
       "DR1IFDCD\n",
       "11112110    2268\n",
       "11111000    1556\n",
       "14410110     958\n",
       "11000000     696\n",
       "11112210     648\n",
       "14104100     551\n",
       "11113000     531\n",
       "13110100     523\n",
       "14010000     351\n",
       "12210400     350\n",
       "12210210     326\n",
       "14107030     257\n",
       "12120100     242\n",
       "12210200     191\n",
       "11100000     187\n",
       "11432000     171\n",
       "14109010     167\n",
       "14301010     142\n",
       "14107010     127\n",
       "12310100     126\n",
       "14108010     123\n",
       "11320000     112\n",
       "14106200     102\n",
       "14108400     102\n",
       "11511200      99\n",
       "11553110      95\n",
       "11350020      86\n",
       "11511000      84\n",
       "11511550      83\n",
       "13120730      82\n",
       "            ... \n",
       "11512110       1\n",
       "11513300       1\n",
       "11513355       1\n",
       "11513360       1\n",
       "11460200       1\n",
       "11513393       1\n",
       "11513400       1\n",
       "11513803       1\n",
       "11513804       1\n",
       "11513805       1\n",
       "11513853       1\n",
       "14420160       1\n",
       "11531500       1\n",
       "11428000       1\n",
       "12320100       1\n",
       "11427000       1\n",
       "11426000       1\n",
       "11541400       1\n",
       "13250200       1\n",
       "11543010       1\n",
       "11811000       1\n",
       "11813000       1\n",
       "11830115       1\n",
       "14610210       1\n",
       "12130200       1\n",
       "14107040       1\n",
       "14201200       1\n",
       "12220300       1\n",
       "14104600       1\n",
       "14710200       1\n",
       "dtype: int64"
      ]
     },
     "execution_count": 64,
     "metadata": {},
     "output_type": "execute_result"
    }
   ],
   "source": [
    "def dairy_filter(item_code):\n",
    "    result = False\n",
    "    if ((10000000 <= item_code) and (item_code <= 19999999)) and (item_code not in range(11710000, 11740551)) :\n",
    "        result = True\n",
    "    return result\n",
    "\n",
    "dairy_values = foodconsumption_data.DR1IFDCD.apply(dairy_filter)\n",
    "dairy_data = foodconsumption_data[dairy_values]\n",
    "# print(len(dairy_data))    # 15557      \n",
    "# dfd = dairy_data.DR1IFDCD\n",
    "dfd1 = dairy_data.groupby('DR1IFDCD').apply(lambda x: (x['DR1IFDCD'].count()))\n",
    "# dfd1.head() \n",
    "dfd1.sort_values(axis=0, ascending = False)\n"
   ]
  },
  {
   "cell_type": "code",
   "execution_count": 50,
   "metadata": {
    "collapsed": false
   },
   "outputs": [
    {
     "data": {
      "text/plain": [
       "DR1IFDCD\n",
       "21500100    268\n",
       "21101130    183\n",
       "21500300    128\n",
       "21102130     59\n",
       "21101120     54\n",
       "21602100     48\n",
       "21401120     46\n",
       "21501200     46\n",
       "21000100     40\n",
       "21501000     36\n",
       "21501300     31\n",
       "21501350     30\n",
       "21420100     28\n",
       "21105130     27\n",
       "21102120     24\n",
       "21103130     20\n",
       "21101020     19\n",
       "21540100     18\n",
       "21601000     16\n",
       "21101110     15\n",
       "21603000     15\n",
       "21501360     14\n",
       "21105120     13\n",
       "21301000     13\n",
       "21407120     13\n",
       "21401110     13\n",
       "21417120     12\n",
       "21001000     11\n",
       "21104110     10\n",
       "21101000     10\n",
       "21401000      9\n",
       "21304120      8\n",
       "21000120      8\n",
       "21304110      6\n",
       "21416120      6\n",
       "21410000      5\n",
       "21103120      5\n",
       "21417110      4\n",
       "21500200      4\n",
       "21101010      3\n",
       "21003000      3\n",
       "21102110      3\n",
       "21000110      3\n",
       "21701010      3\n",
       "21407000      3\n",
       "21407110      3\n",
       "21416000      3\n",
       "21417100      3\n",
       "21103110      2\n",
       "21302000      2\n",
       "21304000      2\n",
       "21304220      2\n",
       "21416110      2\n",
       "21001020      2\n",
       "21602000      2\n",
       "21304210      2\n",
       "21104130      1\n",
       "21105110      1\n",
       "21001010      1\n",
       "21416150      1\n",
       "dtype: int64"
      ]
     },
     "execution_count": 50,
     "metadata": {},
     "output_type": "execute_result"
    }
   ],
   "source": [
    "def beef_filter(item_code):\n",
    "    result = False\n",
    "    if ((21000100 <= item_code) and (item_code <= 21701020)) :\n",
    "        result = True\n",
    "    return result\n",
    "beef_values = foodconsumption_data.DR1IFDCD.apply(beef_filter)\n",
    "beef_data = foodconsumption_data[beef_values]\n",
    "# print(len(beef_data))    # 1362     \n",
    "dfb = beef_data.DR1IFDCD\n",
    "dfb1 = beef_data.groupby('DR1IFDCD').apply(lambda x: (x['DR1IFDCD'].count()))\n",
    "# dfd1.head() \n",
    "dfb1.sort_values(axis=0, ascending = False)"
   ]
  },
  {
   "cell_type": "code",
   "execution_count": 56,
   "metadata": {
    "collapsed": false
   },
   "outputs": [
    {
     "name": "stdout",
     "output_type": "stream",
     "text": [
      "2463\n"
     ]
    },
    {
     "data": {
      "text/plain": [
       "DR1IFDCD\n",
       "24122120    292\n",
       "24198730    232\n",
       "24100000    155\n",
       "24198690    139\n",
       "24198700    122\n",
       "24198740    107\n",
       "24124123     72\n",
       "24167110     47\n",
       "24142210     47\n",
       "24147230     46\n",
       "24123120     44\n",
       "24167130     42\n",
       "24152220     41\n",
       "24142220     41\n",
       "24198735     40\n",
       "24122110     40\n",
       "24198695     39\n",
       "24162110     38\n",
       "24157230     37\n",
       "24127150     35\n",
       "24167113     34\n",
       "24102000     33\n",
       "24124120     31\n",
       "24127153     30\n",
       "24164110     29\n",
       "24127130     29\n",
       "24127110     27\n",
       "24147210     26\n",
       "24154223     22\n",
       "24152210     22\n",
       "           ... \n",
       "24147250      2\n",
       "24127163      2\n",
       "24127165      2\n",
       "24107001      1\n",
       "24157250      1\n",
       "24147212      1\n",
       "24154212      1\n",
       "24104010      1\n",
       "24154220      1\n",
       "24147225      1\n",
       "24157225      1\n",
       "24147251      1\n",
       "24147252      1\n",
       "24154222      1\n",
       "24157235      1\n",
       "24144212      1\n",
       "24120110      1\n",
       "24127112      1\n",
       "24154215      1\n",
       "24123100      1\n",
       "24167123      1\n",
       "24137250      1\n",
       "24137220      1\n",
       "24133200      1\n",
       "24127160      1\n",
       "24163120      1\n",
       "24154211      1\n",
       "24127100      1\n",
       "24127141      1\n",
       "24147263      1\n",
       "dtype: int64"
      ]
     },
     "execution_count": 56,
     "metadata": {},
     "output_type": "execute_result"
    }
   ],
   "source": [
    "def chicken_filter(item_code):\n",
    "    result = False\n",
    "    if ((24100000 <= item_code) and (item_code <= 24198840)) :\n",
    "        result = True\n",
    "    return result\n",
    "chicken_values = foodconsumption_data.DR1IFDCD.apply(chicken_filter)\n",
    "chicken_data = foodconsumption_data[chicken_values]\n",
    "print(len(chicken_data))    # 2463     \n",
    "dfc = chicken_data.DR1IFDCD\n",
    "dfc1 = chicken_data.groupby('DR1IFDCD').apply(lambda x: (x['DR1IFDCD'].count()))\n",
    "# dfd1.head() \n",
    "dfc1.sort_values(axis=0, ascending = False)\n"
   ]
  },
  {
   "cell_type": "code",
   "execution_count": 59,
   "metadata": {
    "collapsed": false
   },
   "outputs": [
    {
     "data": {
      "text/plain": [
       "DR1IFDCD\n",
       "75202027    25\n",
       "75202011    16\n",
       "75202000     6\n",
       "75202028     4\n",
       "75202013     4\n",
       "75202012     4\n",
       "75202032     2\n",
       "75202029     1\n",
       "75202025     1\n",
       "75202020     1\n",
       "75202010     1\n",
       "dtype: int64"
      ]
     },
     "execution_count": 59,
     "metadata": {},
     "output_type": "execute_result"
    }
   ],
   "source": [
    "def asparagus_filter(item_code):\n",
    "    result = False\n",
    "    if ((75202000 <= item_code) and (item_code <= 75202036)) :\n",
    "        result = True\n",
    "    return result\n",
    "\n",
    "asparagus_values = foodconsumption_data.DR1IFDCD.apply(asparagus_filter)\n",
    "asparagus_data = foodconsumption_data[asparagus_values]\n",
    "# print(len(asparagus_data))    # 65     \n",
    "dfa = asparagus_data.DR1IFDCD\n",
    "dfa1 = asparagus_data.groupby('DR1IFDCD').apply(lambda x: (x['DR1IFDCD'].count()))\n",
    "# dfd1.head() \n",
    "dfa1.sort_values(axis=0, ascending = False)\n"
   ]
  },
  {
   "cell_type": "code",
   "execution_count": null,
   "metadata": {
    "collapsed": true
   },
   "outputs": [],
   "source": []
  }
 ],
 "metadata": {
  "anaconda-cloud": {},
  "kernelspec": {
   "display_name": "Python [conda root]",
   "language": "python",
   "name": "conda-root-py"
  },
  "language_info": {
   "codemirror_mode": {
    "name": "ipython",
    "version": 3
   },
   "file_extension": ".py",
   "mimetype": "text/x-python",
   "name": "python",
   "nbconvert_exporter": "python",
   "pygments_lexer": "ipython3",
   "version": "3.5.2"
  }
 },
 "nbformat": 4,
 "nbformat_minor": 1
}
