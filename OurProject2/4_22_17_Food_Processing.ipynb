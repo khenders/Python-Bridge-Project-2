{
 "cells": [
  {
   "cell_type": "code",
   "execution_count": 72,
   "metadata": {
    "collapsed": true
   },
   "outputs": [],
   "source": [
    "import pandas as pd\n",
    "import matplotlib.pyplot as plt\n",
    "%matplotlib inline\n",
    "import numpy as np"
   ]
  },
  {
   "cell_type": "code",
   "execution_count": 96,
   "metadata": {
    "collapsed": false
   },
   "outputs": [],
   "source": [
    "foodconsumption_data = pd.read_csv('./2013_2014day1data.csv')\n",
    "foodcode_data = pd.read_csv('./Foodcode_2013_2014.csv')"
   ]
  },
  {
   "cell_type": "code",
   "execution_count": 76,
   "metadata": {
    "collapsed": false
   },
   "outputs": [
    {
     "data": {
      "text/plain": [
       "Index(['DRXFDCD', 'DRXFCSD', 'DRXFCLD'], dtype='object')"
      ]
     },
     "execution_count": 76,
     "metadata": {},
     "output_type": "execute_result"
    }
   ],
   "source": [
    "foodcode_data.columns"
   ]
  },
  {
   "cell_type": "code",
   "execution_count": 87,
   "metadata": {
    "collapsed": false
   },
   "outputs": [
    {
     "data": {
      "text/plain": [
       "Index(['SEQN', 'WTDRD1', 'WTDR2D', 'DR1ILINE', 'DR1DRSTZ', 'DR1EXMER', 'DRABF',\n",
       "       'DRDINT', 'DR1DBIH', 'DR1DAY', 'DR1LANG', 'DR1CCMNM', 'DR1CCMTX',\n",
       "       'DR1_020', 'DR1_030Z', 'DR1FS', 'DR1_040Z', 'DR1IFDCD', 'DR1IGRMS',\n",
       "       'DR1IKCAL', 'DR1IPROT', 'DR1ICARB', 'DR1ISUGR', 'DR1IFIBE', 'DR1ITFAT',\n",
       "       'DR1ISFAT', 'DR1IMFAT', 'DR1IPFAT', 'DR1ICHOL', 'DR1IATOC', 'DR1IATOA',\n",
       "       'DR1IRET', 'DR1IVARA', 'DR1IACAR', 'DR1IBCAR', 'DR1ICRYP', 'DR1ILYCO',\n",
       "       'DR1ILZ', 'DR1IVB1', 'DR1IVB2', 'DR1INIAC', 'DR1IVB6', 'DR1IFOLA',\n",
       "       'DR1IFA', 'DR1IFF', 'DR1IFDFE', 'DR1ICHL', 'DR1IVB12', 'DR1IB12A',\n",
       "       'DR1IVC', 'DR1IVD', 'DR1IVK', 'DR1ICALC', 'DR1IPHOS', 'DR1IMAGN',\n",
       "       'DR1IIRON', 'DR1IZINC', 'DR1ICOPP', 'DR1ISODI', 'DR1IPOTA', 'DR1ISELE',\n",
       "       'DR1ICAFF', 'DR1ITHEO', 'DR1IALCO', 'DR1IMOIS', 'DR1IS040', 'DR1IS060',\n",
       "       'DR1IS080', 'DR1IS100', 'DR1IS120', 'DR1IS140', 'DR1IS160', 'DR1IS180',\n",
       "       'DR1IM161', 'DR1IM181', 'DR1IM201', 'DR1IM221', 'DR1IP182', 'DR1IP183',\n",
       "       'DR1IP184', 'DR1IP204', 'DR1IP205', 'DR1IP225', 'DR1IP226'],\n",
       "      dtype='object')"
      ]
     },
     "execution_count": 87,
     "metadata": {},
     "output_type": "execute_result"
    }
   ],
   "source": [
    "foodconsumption_data.columns"
   ]
  },
  {
   "cell_type": "code",
   "execution_count": 99,
   "metadata": {
    "collapsed": false
   },
   "outputs": [
    {
     "data": {
      "text/html": [
       "<div>\n",
       "<table border=\"1\" class=\"dataframe\">\n",
       "  <thead>\n",
       "    <tr style=\"text-align: right;\">\n",
       "      <th></th>\n",
       "      <th>SEQN</th>\n",
       "      <th>WTDRD1</th>\n",
       "      <th>WTDR2D</th>\n",
       "      <th>DR1ILINE</th>\n",
       "      <th>DR1DRSTZ</th>\n",
       "      <th>DR1EXMER</th>\n",
       "      <th>DRABF</th>\n",
       "      <th>DRDINT</th>\n",
       "      <th>DR1DBIH</th>\n",
       "      <th>DR1DAY</th>\n",
       "      <th>...</th>\n",
       "      <th>DR1IM181</th>\n",
       "      <th>DR1IM201</th>\n",
       "      <th>DR1IM221</th>\n",
       "      <th>DR1IP182</th>\n",
       "      <th>DR1IP183</th>\n",
       "      <th>DR1IP184</th>\n",
       "      <th>DR1IP204</th>\n",
       "      <th>DR1IP205</th>\n",
       "      <th>DR1IP225</th>\n",
       "      <th>DR1IP226</th>\n",
       "    </tr>\n",
       "  </thead>\n",
       "  <tbody>\n",
       "    <tr>\n",
       "      <th>0</th>\n",
       "      <td>73557</td>\n",
       "      <td>16888.327864</td>\n",
       "      <td>12930.890649</td>\n",
       "      <td>1.0</td>\n",
       "      <td>1</td>\n",
       "      <td>49</td>\n",
       "      <td>2</td>\n",
       "      <td>2</td>\n",
       "      <td>6</td>\n",
       "      <td>2</td>\n",
       "      <td>...</td>\n",
       "      <td>3.595</td>\n",
       "      <td>0.034</td>\n",
       "      <td>0.001</td>\n",
       "      <td>0.949</td>\n",
       "      <td>0.108</td>\n",
       "      <td>0.0</td>\n",
       "      <td>0.051</td>\n",
       "      <td>0.001</td>\n",
       "      <td>0.0</td>\n",
       "      <td>0.01</td>\n",
       "    </tr>\n",
       "    <tr>\n",
       "      <th>1</th>\n",
       "      <td>73557</td>\n",
       "      <td>16888.327864</td>\n",
       "      <td>12930.890649</td>\n",
       "      <td>2.0</td>\n",
       "      <td>1</td>\n",
       "      <td>49</td>\n",
       "      <td>2</td>\n",
       "      <td>2</td>\n",
       "      <td>6</td>\n",
       "      <td>2</td>\n",
       "      <td>...</td>\n",
       "      <td>0.000</td>\n",
       "      <td>0.000</td>\n",
       "      <td>0.000</td>\n",
       "      <td>0.004</td>\n",
       "      <td>0.000</td>\n",
       "      <td>0.0</td>\n",
       "      <td>0.000</td>\n",
       "      <td>0.000</td>\n",
       "      <td>0.0</td>\n",
       "      <td>0.00</td>\n",
       "    </tr>\n",
       "    <tr>\n",
       "      <th>2</th>\n",
       "      <td>73557</td>\n",
       "      <td>16888.327864</td>\n",
       "      <td>12930.890649</td>\n",
       "      <td>3.0</td>\n",
       "      <td>1</td>\n",
       "      <td>49</td>\n",
       "      <td>2</td>\n",
       "      <td>2</td>\n",
       "      <td>6</td>\n",
       "      <td>2</td>\n",
       "      <td>...</td>\n",
       "      <td>0.000</td>\n",
       "      <td>0.000</td>\n",
       "      <td>0.000</td>\n",
       "      <td>0.000</td>\n",
       "      <td>0.000</td>\n",
       "      <td>0.0</td>\n",
       "      <td>0.000</td>\n",
       "      <td>0.000</td>\n",
       "      <td>0.0</td>\n",
       "      <td>0.00</td>\n",
       "    </tr>\n",
       "    <tr>\n",
       "      <th>3</th>\n",
       "      <td>73557</td>\n",
       "      <td>16888.327864</td>\n",
       "      <td>12930.890649</td>\n",
       "      <td>4.0</td>\n",
       "      <td>1</td>\n",
       "      <td>49</td>\n",
       "      <td>2</td>\n",
       "      <td>2</td>\n",
       "      <td>6</td>\n",
       "      <td>2</td>\n",
       "      <td>...</td>\n",
       "      <td>0.081</td>\n",
       "      <td>0.000</td>\n",
       "      <td>0.000</td>\n",
       "      <td>0.103</td>\n",
       "      <td>0.031</td>\n",
       "      <td>0.0</td>\n",
       "      <td>0.000</td>\n",
       "      <td>0.000</td>\n",
       "      <td>0.0</td>\n",
       "      <td>0.00</td>\n",
       "    </tr>\n",
       "    <tr>\n",
       "      <th>4</th>\n",
       "      <td>73557</td>\n",
       "      <td>16888.327864</td>\n",
       "      <td>12930.890649</td>\n",
       "      <td>5.0</td>\n",
       "      <td>1</td>\n",
       "      <td>49</td>\n",
       "      <td>2</td>\n",
       "      <td>2</td>\n",
       "      <td>6</td>\n",
       "      <td>2</td>\n",
       "      <td>...</td>\n",
       "      <td>0.026</td>\n",
       "      <td>0.000</td>\n",
       "      <td>0.000</td>\n",
       "      <td>0.024</td>\n",
       "      <td>0.009</td>\n",
       "      <td>0.0</td>\n",
       "      <td>0.000</td>\n",
       "      <td>0.000</td>\n",
       "      <td>0.0</td>\n",
       "      <td>0.00</td>\n",
       "    </tr>\n",
       "  </tbody>\n",
       "</table>\n",
       "<p>5 rows × 84 columns</p>\n",
       "</div>"
      ],
      "text/plain": [
       "    SEQN        WTDRD1        WTDR2D  DR1ILINE  DR1DRSTZ  DR1EXMER  DRABF  \\\n",
       "0  73557  16888.327864  12930.890649       1.0         1        49      2   \n",
       "1  73557  16888.327864  12930.890649       2.0         1        49      2   \n",
       "2  73557  16888.327864  12930.890649       3.0         1        49      2   \n",
       "3  73557  16888.327864  12930.890649       4.0         1        49      2   \n",
       "4  73557  16888.327864  12930.890649       5.0         1        49      2   \n",
       "\n",
       "   DRDINT  DR1DBIH  DR1DAY    ...     DR1IM181  DR1IM201  DR1IM221 DR1IP182  \\\n",
       "0       2        6       2    ...        3.595     0.034     0.001    0.949   \n",
       "1       2        6       2    ...        0.000     0.000     0.000    0.004   \n",
       "2       2        6       2    ...        0.000     0.000     0.000    0.000   \n",
       "3       2        6       2    ...        0.081     0.000     0.000    0.103   \n",
       "4       2        6       2    ...        0.026     0.000     0.000    0.024   \n",
       "\n",
       "   DR1IP183  DR1IP184  DR1IP204  DR1IP205  DR1IP225  DR1IP226  \n",
       "0     0.108       0.0     0.051     0.001       0.0      0.01  \n",
       "1     0.000       0.0     0.000     0.000       0.0      0.00  \n",
       "2     0.000       0.0     0.000     0.000       0.0      0.00  \n",
       "3     0.031       0.0     0.000     0.000       0.0      0.00  \n",
       "4     0.009       0.0     0.000     0.000       0.0      0.00  \n",
       "\n",
       "[5 rows x 84 columns]"
      ]
     },
     "execution_count": 99,
     "metadata": {},
     "output_type": "execute_result"
    }
   ],
   "source": [
    "foodconsumption_data[\"SEQN\"] = foodconsumption_data[\"SEQN\"].apply(np.int64)\n",
    "foodconsumption_data.head()"
   ]
  },
  {
   "cell_type": "code",
   "execution_count": 100,
   "metadata": {
    "collapsed": false
   },
   "outputs": [
    {
     "data": {
      "text/html": [
       "<div>\n",
       "<table border=\"1\" class=\"dataframe\">\n",
       "  <thead>\n",
       "    <tr style=\"text-align: right;\">\n",
       "      <th></th>\n",
       "      <th>SEQN</th>\n",
       "      <th>DR1IFDCD</th>\n",
       "      <th>DR1IGRMS</th>\n",
       "    </tr>\n",
       "  </thead>\n",
       "  <tbody>\n",
       "    <tr>\n",
       "      <th>0</th>\n",
       "      <td>73557</td>\n",
       "      <td>32202075</td>\n",
       "      <td>84.0</td>\n",
       "    </tr>\n",
       "    <tr>\n",
       "      <th>1</th>\n",
       "      <td>73557</td>\n",
       "      <td>92101000</td>\n",
       "      <td>359.1</td>\n",
       "    </tr>\n",
       "    <tr>\n",
       "      <th>2</th>\n",
       "      <td>73557</td>\n",
       "      <td>91107000</td>\n",
       "      <td>2.0</td>\n",
       "    </tr>\n",
       "    <tr>\n",
       "      <th>3</th>\n",
       "      <td>73557</td>\n",
       "      <td>61210250</td>\n",
       "      <td>449.5</td>\n",
       "    </tr>\n",
       "    <tr>\n",
       "      <th>4</th>\n",
       "      <td>73557</td>\n",
       "      <td>61119010</td>\n",
       "      <td>131.0</td>\n",
       "    </tr>\n",
       "  </tbody>\n",
       "</table>\n",
       "</div>"
      ],
      "text/plain": [
       "    SEQN  DR1IFDCD  DR1IGRMS\n",
       "0  73557  32202075      84.0\n",
       "1  73557  92101000     359.1\n",
       "2  73557  91107000       2.0\n",
       "3  73557  61210250     449.5\n",
       "4  73557  61119010     131.0"
      ]
     },
     "execution_count": 100,
     "metadata": {},
     "output_type": "execute_result"
    }
   ],
   "source": [
    "food_data_abridged = foodconsumption_data[[\"SEQN\", \"DR1IFDCD\", \"DR1IGRMS\"]]\n",
    "food_data_abridged.head()\n"
   ]
  },
  {
   "cell_type": "code",
   "execution_count": 101,
   "metadata": {
    "collapsed": false
   },
   "outputs": [
    {
     "data": {
      "text/html": [
       "<div>\n",
       "<table border=\"1\" class=\"dataframe\">\n",
       "  <thead>\n",
       "    <tr style=\"text-align: right;\">\n",
       "      <th></th>\n",
       "      <th>PersonID</th>\n",
       "      <th>FoodCode</th>\n",
       "      <th>GramsEaten</th>\n",
       "    </tr>\n",
       "  </thead>\n",
       "  <tbody>\n",
       "    <tr>\n",
       "      <th>0</th>\n",
       "      <td>73557</td>\n",
       "      <td>32202075</td>\n",
       "      <td>84.0</td>\n",
       "    </tr>\n",
       "    <tr>\n",
       "      <th>1</th>\n",
       "      <td>73557</td>\n",
       "      <td>92101000</td>\n",
       "      <td>359.1</td>\n",
       "    </tr>\n",
       "    <tr>\n",
       "      <th>2</th>\n",
       "      <td>73557</td>\n",
       "      <td>91107000</td>\n",
       "      <td>2.0</td>\n",
       "    </tr>\n",
       "    <tr>\n",
       "      <th>3</th>\n",
       "      <td>73557</td>\n",
       "      <td>61210250</td>\n",
       "      <td>449.5</td>\n",
       "    </tr>\n",
       "    <tr>\n",
       "      <th>4</th>\n",
       "      <td>73557</td>\n",
       "      <td>61119010</td>\n",
       "      <td>131.0</td>\n",
       "    </tr>\n",
       "  </tbody>\n",
       "</table>\n",
       "</div>"
      ],
      "text/plain": [
       "   PersonID  FoodCode  GramsEaten\n",
       "0     73557  32202075        84.0\n",
       "1     73557  92101000       359.1\n",
       "2     73557  91107000         2.0\n",
       "3     73557  61210250       449.5\n",
       "4     73557  61119010       131.0"
      ]
     },
     "execution_count": 101,
     "metadata": {},
     "output_type": "execute_result"
    }
   ],
   "source": [
    "food_data_abridged.columns = ['PersonID', 'FoodCode', 'GramsEaten']\n",
    "food_data_abridged.head()"
   ]
  },
  {
   "cell_type": "code",
   "execution_count": 102,
   "metadata": {
    "collapsed": false
   },
   "outputs": [
    {
     "data": {
      "text/plain": [
       "PersonID        int64\n",
       "FoodCode        int64\n",
       "GramsEaten    float64\n",
       "dtype: object"
      ]
     },
     "execution_count": 102,
     "metadata": {},
     "output_type": "execute_result"
    }
   ],
   "source": [
    "food_data_abridged.dtypes"
   ]
  },
  {
   "cell_type": "code",
   "execution_count": 148,
   "metadata": {
    "collapsed": false
   },
   "outputs": [
    {
     "data": {
      "text/html": [
       "<div>\n",
       "<table border=\"1\" class=\"dataframe\">\n",
       "  <thead>\n",
       "    <tr style=\"text-align: right;\">\n",
       "      <th></th>\n",
       "      <th>PersonID</th>\n",
       "      <th>FoodCode</th>\n",
       "      <th>GramsEaten</th>\n",
       "    </tr>\n",
       "  </thead>\n",
       "  <tbody>\n",
       "    <tr>\n",
       "      <th>12</th>\n",
       "      <td>73558</td>\n",
       "      <td>11111000</td>\n",
       "      <td>152.5</td>\n",
       "    </tr>\n",
       "    <tr>\n",
       "      <th>17</th>\n",
       "      <td>73558</td>\n",
       "      <td>11111000</td>\n",
       "      <td>366.0</td>\n",
       "    </tr>\n",
       "    <tr>\n",
       "      <th>21</th>\n",
       "      <td>73559</td>\n",
       "      <td>11113000</td>\n",
       "      <td>183.0</td>\n",
       "    </tr>\n",
       "    <tr>\n",
       "      <th>40</th>\n",
       "      <td>73559</td>\n",
       "      <td>14201010</td>\n",
       "      <td>210.0</td>\n",
       "    </tr>\n",
       "    <tr>\n",
       "      <th>47</th>\n",
       "      <td>73560</td>\n",
       "      <td>11113000</td>\n",
       "      <td>244.0</td>\n",
       "    </tr>\n",
       "  </tbody>\n",
       "</table>\n",
       "</div>"
      ],
      "text/plain": [
       "    PersonID  FoodCode  GramsEaten\n",
       "12     73558  11111000       152.5\n",
       "17     73558  11111000       366.0\n",
       "21     73559  11113000       183.0\n",
       "40     73559  14201010       210.0\n",
       "47     73560  11113000       244.0"
      ]
     },
     "execution_count": 148,
     "metadata": {},
     "output_type": "execute_result"
    }
   ],
   "source": [
    "# consolidating the four different filters into one to apply to the data set\n",
    "\n",
    "def four_food_filter(item_code):\n",
    "    result = False\n",
    "    if ((10000000 <= item_code) and (item_code <= 19999999)) and (item_code not in range(11710000, 11740551)) :\n",
    "        result = True\n",
    "    elif ((21000100 <= item_code) and (item_code <= 21701020)) :\n",
    "        result = True\n",
    "    elif ((24100000 <= item_code) and (item_code <= 24198840)) :\n",
    "        result = True\n",
    "    elif ((75202000 <= item_code) and (item_code <= 75202036)) :\n",
    "        result = True\n",
    "    return result\n",
    "\n",
    "food_data_filter = food_data_abridged.FoodCode.apply(four_food_filter)\n",
    "food_data_filtered = food_data_abridged[food_data_filter]\n",
    "food_data_filtered.head()\n",
    "# food_data_filtered.count()  #19,447 rows that contain the four food categories\n"
   ]
  },
  {
   "cell_type": "code",
   "execution_count": 117,
   "metadata": {
    "collapsed": false
   },
   "outputs": [
    {
     "name": "stderr",
     "output_type": "stream",
     "text": [
      "/Users/miche/anaconda/lib/python3.5/site-packages/ipykernel/__main__.py:15: SettingWithCopyWarning: \n",
      "A value is trying to be set on a copy of a slice from a DataFrame.\n",
      "Try using .loc[row_indexer,col_indexer] = value instead\n",
      "\n",
      "See the caveats in the documentation: http://pandas.pydata.org/pandas-docs/stable/indexing.html#indexing-view-versus-copy\n"
     ]
    },
    {
     "data": {
      "text/html": [
       "<div>\n",
       "<table border=\"1\" class=\"dataframe\">\n",
       "  <thead>\n",
       "    <tr style=\"text-align: right;\">\n",
       "      <th></th>\n",
       "      <th>PersonID</th>\n",
       "      <th>FoodCode</th>\n",
       "      <th>GramsEaten</th>\n",
       "      <th>FoodType</th>\n",
       "    </tr>\n",
       "  </thead>\n",
       "  <tbody>\n",
       "    <tr>\n",
       "      <th>12</th>\n",
       "      <td>73558</td>\n",
       "      <td>11111000</td>\n",
       "      <td>152.5</td>\n",
       "      <td>DAIRY</td>\n",
       "    </tr>\n",
       "    <tr>\n",
       "      <th>17</th>\n",
       "      <td>73558</td>\n",
       "      <td>11111000</td>\n",
       "      <td>366.0</td>\n",
       "      <td>DAIRY</td>\n",
       "    </tr>\n",
       "    <tr>\n",
       "      <th>21</th>\n",
       "      <td>73559</td>\n",
       "      <td>11113000</td>\n",
       "      <td>183.0</td>\n",
       "      <td>DAIRY</td>\n",
       "    </tr>\n",
       "    <tr>\n",
       "      <th>40</th>\n",
       "      <td>73559</td>\n",
       "      <td>14201010</td>\n",
       "      <td>210.0</td>\n",
       "      <td>DAIRY</td>\n",
       "    </tr>\n",
       "    <tr>\n",
       "      <th>47</th>\n",
       "      <td>73560</td>\n",
       "      <td>11113000</td>\n",
       "      <td>244.0</td>\n",
       "      <td>DAIRY</td>\n",
       "    </tr>\n",
       "  </tbody>\n",
       "</table>\n",
       "</div>"
      ],
      "text/plain": [
       "    PersonID  FoodCode  GramsEaten FoodType\n",
       "12     73558  11111000       152.5    DAIRY\n",
       "17     73558  11111000       366.0    DAIRY\n",
       "21     73559  11113000       183.0    DAIRY\n",
       "40     73559  14201010       210.0    DAIRY\n",
       "47     73560  11113000       244.0    DAIRY"
      ]
     },
     "execution_count": 117,
     "metadata": {},
     "output_type": "execute_result"
    }
   ],
   "source": [
    "# change the filter from food code types to food categories to make the sorting and comparisons easiers\n",
    "\n",
    "def food_code_type(item_code):\n",
    "    result = False\n",
    "    if ((10000000 <= item_code) and (item_code <= 19999999)) and (item_code not in range(11710000, 11740551)) :\n",
    "        result = 'DAIRY'\n",
    "    elif ((21000100 <= item_code) and (item_code <= 21701020)) :\n",
    "        result = 'BEEF'\n",
    "    elif ((24100000 <= item_code) and (item_code <= 24198840)) :\n",
    "        result = 'CHICKEN'\n",
    "    elif ((75202000 <= item_code) and (item_code <= 75202036)) :\n",
    "        result = 'ASPARAGUS'\n",
    "    return result\n",
    "\n",
    "food_data_filtered['FoodType'] = food_data_filtered['FoodCode'].apply(lambda x: food_code_type(x))\n",
    "food_data_filtered.head()\n"
   ]
  },
  {
   "cell_type": "code",
   "execution_count": 133,
   "metadata": {
    "collapsed": false
   },
   "outputs": [
    {
     "data": {
      "text/html": [
       "<div>\n",
       "<table border=\"1\" class=\"dataframe\">\n",
       "  <thead>\n",
       "    <tr style=\"text-align: right;\">\n",
       "      <th></th>\n",
       "      <th>FoodTypeSum</th>\n",
       "    </tr>\n",
       "    <tr>\n",
       "      <th>FoodType</th>\n",
       "      <th></th>\n",
       "    </tr>\n",
       "  </thead>\n",
       "  <tbody>\n",
       "    <tr>\n",
       "      <th>ASPARAGUS</th>\n",
       "      <td>6888.50</td>\n",
       "    </tr>\n",
       "    <tr>\n",
       "      <th>BEEF</th>\n",
       "      <td>135668.04</td>\n",
       "    </tr>\n",
       "    <tr>\n",
       "      <th>CHICKEN</th>\n",
       "      <td>254126.24</td>\n",
       "    </tr>\n",
       "    <tr>\n",
       "      <th>DAIRY</th>\n",
       "      <td>1914695.88</td>\n",
       "    </tr>\n",
       "  </tbody>\n",
       "</table>\n",
       "</div>"
      ],
      "text/plain": [
       "           FoodTypeSum\n",
       "FoodType              \n",
       "ASPARAGUS      6888.50\n",
       "BEEF         135668.04\n",
       "CHICKEN      254126.24\n",
       "DAIRY       1914695.88"
      ]
     },
     "execution_count": 133,
     "metadata": {},
     "output_type": "execute_result"
    }
   ],
   "source": [
    "# create a new column to reflect the total amount of each food type consumed\n",
    "\n",
    "foodcodegrouping = food_data_filtered.groupby(\"FoodType\").apply(lambda x: x['GramsEaten'].sum())\n",
    "foodcodegrouping = foodcodegrouping.to_frame()\n",
    "foodcodegrouping.columns = ['FoodTypeSum']\n",
    "foodcodegrouping"
   ]
  },
  {
   "cell_type": "code",
   "execution_count": 134,
   "metadata": {
    "collapsed": false
   },
   "outputs": [
    {
     "data": {
      "text/html": [
       "<div>\n",
       "<table border=\"1\" class=\"dataframe\">\n",
       "  <thead>\n",
       "    <tr style=\"text-align: right;\">\n",
       "      <th></th>\n",
       "      <th>FoodTypeSum</th>\n",
       "      <th>PersonCount</th>\n",
       "    </tr>\n",
       "    <tr>\n",
       "      <th>FoodType</th>\n",
       "      <th></th>\n",
       "      <th></th>\n",
       "    </tr>\n",
       "  </thead>\n",
       "  <tbody>\n",
       "    <tr>\n",
       "      <th>ASPARAGUS</th>\n",
       "      <td>6888.50</td>\n",
       "      <td>64</td>\n",
       "    </tr>\n",
       "    <tr>\n",
       "      <th>BEEF</th>\n",
       "      <td>135668.04</td>\n",
       "      <td>1259</td>\n",
       "    </tr>\n",
       "    <tr>\n",
       "      <th>CHICKEN</th>\n",
       "      <td>254126.24</td>\n",
       "      <td>2093</td>\n",
       "    </tr>\n",
       "    <tr>\n",
       "      <th>DAIRY</th>\n",
       "      <td>1914695.88</td>\n",
       "      <td>6806</td>\n",
       "    </tr>\n",
       "  </tbody>\n",
       "</table>\n",
       "</div>"
      ],
      "text/plain": [
       "           FoodTypeSum  PersonCount\n",
       "FoodType                           \n",
       "ASPARAGUS      6888.50           64\n",
       "BEEF         135668.04         1259\n",
       "CHICKEN      254126.24         2093\n",
       "DAIRY       1914695.88         6806"
      ]
     },
     "execution_count": 134,
     "metadata": {},
     "output_type": "execute_result"
    }
   ],
   "source": [
    "# create another column containing the number of unique people who ate each of the food categories\n",
    "\n",
    "foodcodegrouping['PersonCount'] = food_data_filtered.groupby(\"FoodType\").PersonID.nunique()\n",
    "foodcodegrouping"
   ]
  },
  {
   "cell_type": "code",
   "execution_count": 169,
   "metadata": {
    "collapsed": false
   },
   "outputs": [
    {
     "data": {
      "text/html": [
       "<div>\n",
       "<table border=\"1\" class=\"dataframe\">\n",
       "  <thead>\n",
       "    <tr style=\"text-align: right;\">\n",
       "      <th></th>\n",
       "      <th>FoodTypeSum</th>\n",
       "      <th>PersonCount</th>\n",
       "      <th>AvgAmtConsumedGrams</th>\n",
       "    </tr>\n",
       "    <tr>\n",
       "      <th>FoodType</th>\n",
       "      <th></th>\n",
       "      <th></th>\n",
       "      <th></th>\n",
       "    </tr>\n",
       "  </thead>\n",
       "  <tbody>\n",
       "    <tr>\n",
       "      <th>ASPARAGUS</th>\n",
       "      <td>6888.50</td>\n",
       "      <td>64</td>\n",
       "      <td>107.632812</td>\n",
       "    </tr>\n",
       "    <tr>\n",
       "      <th>BEEF</th>\n",
       "      <td>135668.04</td>\n",
       "      <td>1259</td>\n",
       "      <td>107.758570</td>\n",
       "    </tr>\n",
       "    <tr>\n",
       "      <th>CHICKEN</th>\n",
       "      <td>254126.24</td>\n",
       "      <td>2093</td>\n",
       "      <td>121.417219</td>\n",
       "    </tr>\n",
       "    <tr>\n",
       "      <th>DAIRY</th>\n",
       "      <td>1914695.88</td>\n",
       "      <td>6806</td>\n",
       "      <td>281.324696</td>\n",
       "    </tr>\n",
       "  </tbody>\n",
       "</table>\n",
       "</div>"
      ],
      "text/plain": [
       "           FoodTypeSum  PersonCount  AvgAmtConsumedGrams\n",
       "FoodType                                                \n",
       "ASPARAGUS      6888.50           64           107.632812\n",
       "BEEF         135668.04         1259           107.758570\n",
       "CHICKEN      254126.24         2093           121.417219\n",
       "DAIRY       1914695.88         6806           281.324696"
      ]
     },
     "execution_count": 169,
     "metadata": {},
     "output_type": "execute_result"
    }
   ],
   "source": [
    "# calculate the average of each type of food consumed, and create a new column with this information\n",
    "\n",
    "foodcodegrouping['AvgAmtConsumed'] = foodcodegrouping['FoodTypeSum'] / foodcodegrouping['PersonCount']\n",
    "foodcodegrouping = foodcodegrouping.drop('AvgAmtConsumed', 1)\n",
    "foodcodegrouping"
   ]
  },
  {
   "cell_type": "code",
   "execution_count": null,
   "metadata": {
    "collapsed": true
   },
   "outputs": [],
   "source": []
  }
 ],
 "metadata": {
  "anaconda-cloud": {},
  "kernelspec": {
   "display_name": "Python [conda root]",
   "language": "python",
   "name": "conda-root-py"
  },
  "language_info": {
   "codemirror_mode": {
    "name": "ipython",
    "version": 3
   },
   "file_extension": ".py",
   "mimetype": "text/x-python",
   "name": "python",
   "nbconvert_exporter": "python",
   "pygments_lexer": "ipython3",
   "version": "3.5.2"
  }
 },
 "nbformat": 4,
 "nbformat_minor": 1
}
